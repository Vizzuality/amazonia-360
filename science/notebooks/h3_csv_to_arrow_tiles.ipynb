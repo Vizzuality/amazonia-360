{
 "cells": [
  {
   "cell_type": "code",
   "execution_count": null,
   "metadata": {},
   "outputs": [],
   "source": [
    "from pathlib import Path\n",
    "\n",
    "import polars as pl"
   ]
  },
  {
   "cell_type": "code",
   "execution_count": null,
   "metadata": {},
   "outputs": [],
   "source": [
    "csvs = list(Path(\"../data/raw/ENTREGA UNO MUESTRAS HEXA CSV 18072024\").glob(\"*.CSV\"))"
   ]
  },
  {
   "cell_type": "code",
   "execution_count": null,
   "metadata": {},
   "outputs": [],
   "source": [
    "dfs = [pl.read_csv(f, separator=\";\", decimal_comma=True) for f in csvs]\n",
    "df = pl.concat(dfs, how=\"align\", rechunk=True)\n",
    "df.head()"
   ]
  },
  {
   "cell_type": "code",
   "execution_count": null,
   "metadata": {},
   "outputs": [],
   "source": [
    "df = df.with_columns(pl.col(\"GRID_ID\").h3.cells_parse())\n",
    "df = df.drop(\"GRID_ID\")"
   ]
  },
  {
   "cell_type": "code",
   "execution_count": null,
   "metadata": {},
   "outputs": [],
   "source": [
    "df.select(pl.col(\"cell\").h3.cells_resolution()).unique()"
   ]
  },
  {
   "cell_type": "code",
   "execution_count": null,
   "metadata": {},
   "outputs": [],
   "source": [
    "CELLS_RES = 6\n",
    "OVERVIEW_LEVEL = CELLS_RES - 5\n",
    "\n",
    "df = df.with_columns(\n",
    "    pl.col(\"cell\").h3.change_resolution(OVERVIEW_LEVEL).h3.cells_to_string().alias(\"tile_id\"),  # type: ignore[attr-defined]\n",
    "    pl.col(\"cell\").h3.cells_to_string(),\n",
    ")\n",
    "partition_dfs = df.partition_by([\"tile_id\"], as_dict=True, include_key=False)"
   ]
  },
  {
   "cell_type": "markdown",
   "metadata": {},
   "source": [
    "## Write tiles to IPC files"
   ]
  },
  {
   "cell_type": "code",
   "execution_count": null,
   "metadata": {},
   "outputs": [],
   "source": [
    "seen_tiles = set()\n",
    "n_cells = 0\n",
    "\n",
    "for tile_group, tile_df in partition_dfs.items():\n",
    "    if tile_df.shape[0] == 0:  # todo: skip empty tiles ?\n",
    "        continue\n",
    "    tile_id = tile_group[0]\n",
    "    filename = Path(\"../data/processed/grid/1\") / (tile_id + \".arrow\")\n",
    "    if tile_id in seen_tiles:\n",
    "        tile_df = pl.concat([pl.read_ipc(filename), tile_df], how=\"vertical_relaxed\").unique(\n",
    "            subset=[\"cell\"]\n",
    "        )\n",
    "        tile_df.write_parquet(filename)\n",
    "        n_cells += len(tile_df)\n",
    "    else:\n",
    "        seen_tiles.add(tile_id)\n",
    "        tile_df.write_ipc(filename)\n",
    "        n_cells += len(tile_df)"
   ]
  },
  {
   "cell_type": "markdown",
   "metadata": {},
   "source": [
    "## Make the metadata"
   ]
  },
  {
   "cell_type": "code",
   "execution_count": null,
   "metadata": {},
   "outputs": [],
   "source": [
    "df.select(pl.all().min())"
   ]
  },
  {
   "cell_type": "code",
   "execution_count": null,
   "metadata": {},
   "outputs": [],
   "source": [
    "df.select(pl.all().max())"
   ]
  },
  {
   "cell_type": "code",
   "execution_count": null,
   "metadata": {},
   "outputs": [],
   "source": [
    "df.columns"
   ]
  },
  {
   "cell_type": "code",
   "execution_count": null,
   "metadata": {},
   "outputs": [],
   "source": [
    "df.dtypes"
   ]
  }
 ],
 "metadata": {
  "kernelspec": {
   "display_name": "Python 3 (ipykernel)",
   "language": "python",
   "name": "python3"
  },
  "language_info": {
   "codemirror_mode": {
    "name": "ipython",
    "version": 3
   },
   "file_extension": ".py",
   "mimetype": "text/x-python",
   "name": "python",
   "nbconvert_exporter": "python",
   "pygments_lexer": "ipython3",
   "version": "3.12.4"
  }
 },
 "nbformat": 4,
 "nbformat_minor": 4
}
