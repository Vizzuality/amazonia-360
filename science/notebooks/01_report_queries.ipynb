{
 "cells": [
  {
   "cell_type": "markdown",
   "metadata": {},
   "source": [
    "# Amazonia360+ Report Tool Queries\n",
    "\n",
    "This notebook contains the queries used to generate the reports for the Amazonia360+ project.\n",
    "\n",
    "## Table of Contents\n",
    "\n",
    "[Report Sections](#report-sections)\n",
    "1. [General Information](#general-information)\n",
    "2. [Natural Physical Environment](#natural-physical-environment)\n",
    "\n",
    "\n",
    "## Setup\n",
    "\n",
    "### Library import"
   ]
  },
  {
   "cell_type": "code",
   "execution_count": 4,
   "metadata": {},
   "outputs": [],
   "source": [
    "import json\n",
    "import pprint\n",
    "import requests\n",
    "import dotenv\n",
    "import os\n",
    "\n",
    "import geopandas as gpd\n",
    "import matplotlib.pyplot as plt\n",
    "from shapely.geometry import Polygon"
   ]
  },
  {
   "cell_type": "markdown",
   "metadata": {},
   "source": [
    "### Utility functions"
   ]
  },
  {
   "cell_type": "code",
   "execution_count": 7,
   "metadata": {},
   "outputs": [
    {
     "data": {
      "text/plain": [
       "True"
      ]
     },
     "execution_count": 7,
     "metadata": {},
     "output_type": "execute_result"
    }
   ],
   "source": [
    "#Get token from .env file\n",
    "dotenv.load_dotenv()\n"
   ]
  },
  {
   "cell_type": "code",
   "execution_count": null,
   "metadata": {},
   "outputs": [],
   "source": [
    "def indicator_queries(indicator, geometry, return_geometry='true'):\n",
    "    \"\"\"\n",
    "    Creates a query URL for the ArcGIS service.\n",
    "\n",
    "    Parameters:\n",
    "    indicator (str): The dataset name.\n",
    "    geometry (str): The geometry in JSON format.\n",
    "    return_geometry (str): Whether to return the geometry. Default is 'true'.\n",
    "\n",
    "    Returns:\n",
    "    dict: The data from the query.\n",
    "    \"\"\"\n",
    "    base_url = 'https://services6.arcgis.com/sROlVM0rATIYgC6a/arcgis/rest/services'\n",
    "    token = os.getenv(\"ESRI_TOKEN\")\n",
    "\n",
    "    # Create query\n",
    "    query = (f'{base_url}/{indicator}/FeatureServer/0/query?f=json&geometry={geometry}'\n",
    "             f'&outFields=*&returnGeometry={return_geometry}&spatialRel=esriSpatialRelIntersects'\n",
    "             f'&where=FID is not null&geometryType=esriGeometryPolygon&inSR=102100&outSR=4326'\n",
    "             f'&token={token}')\n",
    "\n",
    "    # Make request\n",
    "    r = requests.get(query)\n",
    "    data = json.loads(r.text)\n",
    "\n",
    "    return data"
   ]
  },
  {
   "cell_type": "markdown",
   "metadata": {},
   "source": [
    "<a id='report-sections'></a>\n",
    "## Report Sections"
   ]
  },
  {
   "cell_type": "markdown",
   "metadata": {},
   "source": [
    "<a id='general-information'></a>\n",
    "### 1. General Information"
   ]
  },
  {
   "cell_type": "markdown",
   "metadata": {},
   "source": []
  },
  {
   "cell_type": "markdown",
   "metadata": {},
   "source": []
  },
  {
   "cell_type": "markdown",
   "metadata": {},
   "source": [
    "`AFP_CAPITALES_ADMIN`  \n",
    "`AFP_Areas_protegidas`  \n",
    "`AFP_Tierras_indigenas`  \n",
    "`AFP_Grandes_cuencas_hidrograficas`  \n",
    "`ACU_KnowledgeDB` (publicaciones relacionadas)  \n",
    "\n",
    "Population -> Raster zonal stats  \n"
   ]
  },
  {
   "cell_type": "markdown",
   "metadata": {},
   "source": [
    "<a id='natural-physical-environment'></a>\n",
    "### 2. Natural Physical Environment"
   ]
  },
  {
   "cell_type": "markdown",
   "metadata": {},
   "source": [
    "`AFP_Tipos_climaticos_KOEPEN`  \n",
    "`AFP_Biomas`  \n",
    "\n",
    "Elevation -> Raster zonal stats  \n",
    "Land cover -> Raster zonal stats"
   ]
  },
  {
   "cell_type": "markdown",
   "metadata": {},
   "source": [
    "**Biomes by type**"
   ]
  },
  {
   "cell_type": "code",
   "execution_count": null,
   "metadata": {},
   "outputs": [],
   "source": [
    "indicator = 'AFP_Biomas' # Add dataset name\n",
    "geometry='{\"rings\":[[[-7078236.688350331,-2235196.819507535],[-7356543.9083365835,-2087673.354917184],[-7709912.290098859,-1602412.880848871],[-7526998.4814124815,-1468648.0813498483],[-7056299.26123249,-1305340.3704186128],[-5983123.384108901,-1289250.3759645876],[-5224180.130265588,-1432493.3669709698],[-5609269.878766203,-1817200.9303301596],[-6030820.089758838,-1946073.7600189322],[-6459249.633297138,-1800346.5655932822],[-6802795.85692477,-1808525.3276197943],[-6769048.908936875,-2030574.8947881726],[-7078236.688350331,-2235196.819507535]]]}'\n",
    "return_geometry='true'\n",
    "data = indicator_queries(indicator, geometry, return_geometry)"
   ]
  },
  {
   "cell_type": "code",
   "execution_count": 89,
   "metadata": {},
   "outputs": [
    {
     "data": {
      "text/html": [
       "<div>\n",
       "<style scoped>\n",
       "    .dataframe tbody tr th:only-of-type {\n",
       "        vertical-align: middle;\n",
       "    }\n",
       "\n",
       "    .dataframe tbody tr th {\n",
       "        vertical-align: top;\n",
       "    }\n",
       "\n",
       "    .dataframe thead th {\n",
       "        text-align: right;\n",
       "    }\n",
       "</style>\n",
       "<table border=\"1\" class=\"dataframe\">\n",
       "  <thead>\n",
       "    <tr style=\"text-align: right;\">\n",
       "      <th></th>\n",
       "      <th>name</th>\n",
       "      <th>geometry</th>\n",
       "    </tr>\n",
       "  </thead>\n",
       "  <tbody>\n",
       "    <tr>\n",
       "      <th>0</th>\n",
       "      <td>polygon</td>\n",
       "      <td>POLYGON ((-63.58488 -19.68030, -66.08496 -18.4...</td>\n",
       "    </tr>\n",
       "  </tbody>\n",
       "</table>\n",
       "</div>"
      ],
      "text/plain": [
       "      name                                           geometry\n",
       "0  polygon  POLYGON ((-63.58488 -19.68030, -66.08496 -18.4..."
      ]
     },
     "execution_count": 89,
     "metadata": {},
     "output_type": "execute_result"
    }
   ],
   "source": [
    "polygon = json.loads(geometry)['rings'][0]\n",
    "gdf_poly = gpd.GeoDataFrame([{\"name\": \"polygon\"}], geometry=[Polygon(polygon)])\n",
    "# Set CRS to ESRI:102100\n",
    "gdf_poly.set_crs(epsg=102100, inplace=True)\n",
    "\n",
    "# Reproject to EPSG:4326\n",
    "gdf_poly = gdf_poly.to_crs(epsg=4326)\n",
    "gdf_poly"
   ]
  },
  {
   "cell_type": "code",
   "execution_count": 95,
   "metadata": {},
   "outputs": [
    {
     "data": {
      "text/html": [
       "<div>\n",
       "<style scoped>\n",
       "    .dataframe tbody tr th:only-of-type {\n",
       "        vertical-align: middle;\n",
       "    }\n",
       "\n",
       "    .dataframe tbody tr th {\n",
       "        vertical-align: top;\n",
       "    }\n",
       "\n",
       "    .dataframe thead th {\n",
       "        text-align: right;\n",
       "    }\n",
       "</style>\n",
       "<table border=\"1\" class=\"dataframe\">\n",
       "  <thead>\n",
       "    <tr style=\"text-align: right;\">\n",
       "      <th></th>\n",
       "      <th>FID</th>\n",
       "      <th>BIOME</th>\n",
       "      <th>BIOMADES</th>\n",
       "      <th>Shape__Area</th>\n",
       "      <th>Shape__Length</th>\n",
       "      <th>geometry</th>\n",
       "    </tr>\n",
       "  </thead>\n",
       "  <tbody>\n",
       "    <tr>\n",
       "      <th>0</th>\n",
       "      <td>1</td>\n",
       "      <td>1</td>\n",
       "      <td>Tropical and Subtropical Moist Broadleaf Forests</td>\n",
       "      <td>6.740088e+12</td>\n",
       "      <td>6.596722e+07</td>\n",
       "      <td>POLYGON ((-62.16851 9.93850, -62.18296 9.93627...</td>\n",
       "    </tr>\n",
       "  </tbody>\n",
       "</table>\n",
       "</div>"
      ],
      "text/plain": [
       "   FID  BIOME                                          BIOMADES   Shape__Area  \\\n",
       "0    1      1  Tropical and Subtropical Moist Broadleaf Forests  6.740088e+12   \n",
       "\n",
       "   Shape__Length                                           geometry  \n",
       "0   6.596722e+07  POLYGON ((-62.16851 9.93850, -62.18296 9.93627...  "
      ]
     },
     "execution_count": 95,
     "metadata": {},
     "output_type": "execute_result"
    }
   ],
   "source": [
    "# Extract attributes and geometry\n",
    "attributes = [item['attributes'] for item in data['features']]\n",
    "geometry = [Polygon(item['geometry']['rings'][0]) for item in data['features']]\n",
    "\n",
    "# Create GeoDataFrame\n",
    "gdf = gpd.GeoDataFrame(attributes, geometry=geometry)\n",
    "\n",
    "# Set CRS to ESRI:102100\n",
    "#gdf.set_crs(epsg=102100, inplace=True)\n",
    "gdf.set_crs(epsg=4326, inplace=True)\n",
    "\n",
    "# Reproject to EPSG:4326\n",
    "#gdf = gdf.to_crs(epsg=4326)\n",
    "\n",
    "gdf"
   ]
  },
  {
   "cell_type": "code",
   "execution_count": null,
   "metadata": {},
   "outputs": [
    {
     "name": "stderr",
     "output_type": "stream",
     "text": [
      "/var/folders/wf/_wlxc6cn5js4hh3j7j6x28f80000gn/T/ipykernel_7127/2697238990.py:1: UserWarning: Geometry is in a geographic CRS. Results from 'area' are likely incorrect. Use 'GeoSeries.to_crs()' to re-project geometries to a projected CRS before this operation.\n",
      "\n",
      "  gdf['area'] = gdf['geometry'].area\n"
     ]
    },
    {
     "data": {
      "text/html": [
       "<div>\n",
       "<style scoped>\n",
       "    .dataframe tbody tr th:only-of-type {\n",
       "        vertical-align: middle;\n",
       "    }\n",
       "\n",
       "    .dataframe tbody tr th {\n",
       "        vertical-align: top;\n",
       "    }\n",
       "\n",
       "    .dataframe thead th {\n",
       "        text-align: right;\n",
       "    }\n",
       "</style>\n",
       "<table border=\"1\" class=\"dataframe\">\n",
       "  <thead>\n",
       "    <tr style=\"text-align: right;\">\n",
       "      <th></th>\n",
       "      <th>FID</th>\n",
       "      <th>BIOME</th>\n",
       "      <th>BIOMADES</th>\n",
       "      <th>Shape__Area</th>\n",
       "      <th>Shape__Length</th>\n",
       "      <th>geometry</th>\n",
       "      <th>area</th>\n",
       "    </tr>\n",
       "  </thead>\n",
       "  <tbody>\n",
       "    <tr>\n",
       "      <th>0</th>\n",
       "      <td>1</td>\n",
       "      <td>1</td>\n",
       "      <td>Tropical and Subtropical Moist Broadleaf Forests</td>\n",
       "      <td>6.740088e+12</td>\n",
       "      <td>6.596722e+07</td>\n",
       "      <td>POLYGON ((-62.16851 9.93850, -62.18296 9.93627...</td>\n",
       "      <td>0.000017</td>\n",
       "    </tr>\n",
       "    <tr>\n",
       "      <th>1</th>\n",
       "      <td>2</td>\n",
       "      <td>2</td>\n",
       "      <td>Tropical and Subtropical Dry Broadleaf Forests</td>\n",
       "      <td>2.687076e+11</td>\n",
       "      <td>1.399060e+07</td>\n",
       "      <td>POLYGON ((-73.95417 3.35417, -73.95083 3.34917...</td>\n",
       "      <td>0.193485</td>\n",
       "    </tr>\n",
       "    <tr>\n",
       "      <th>2</th>\n",
       "      <td>3</td>\n",
       "      <td>7</td>\n",
       "      <td>Tropical and Subtropical Grasslands, Savannas ...</td>\n",
       "      <td>1.337588e+12</td>\n",
       "      <td>4.513371e+07</td>\n",
       "      <td>POLYGON ((-62.20739 8.64443, -62.24595 8.60665...</td>\n",
       "      <td>0.002697</td>\n",
       "    </tr>\n",
       "    <tr>\n",
       "      <th>3</th>\n",
       "      <td>4</td>\n",
       "      <td>9</td>\n",
       "      <td>Flooded Grasslands and Savannas</td>\n",
       "      <td>6.400192e+10</td>\n",
       "      <td>4.039980e+06</td>\n",
       "      <td>POLYGON ((-62.07857 9.87582, -62.07703 9.87479...</td>\n",
       "      <td>0.005688</td>\n",
       "    </tr>\n",
       "    <tr>\n",
       "      <th>4</th>\n",
       "      <td>5</td>\n",
       "      <td>10</td>\n",
       "      <td>Montane Grasslands and Shrublands</td>\n",
       "      <td>1.260113e+11</td>\n",
       "      <td>2.159517e+07</td>\n",
       "      <td>POLYGON ((-74.77648 2.94274, -74.77165 2.93829...</td>\n",
       "      <td>0.001231</td>\n",
       "    </tr>\n",
       "  </tbody>\n",
       "</table>\n",
       "</div>"
      ],
      "text/plain": [
       "   FID  BIOME                                           BIOMADES  \\\n",
       "0    1      1   Tropical and Subtropical Moist Broadleaf Forests   \n",
       "1    2      2     Tropical and Subtropical Dry Broadleaf Forests   \n",
       "2    3      7  Tropical and Subtropical Grasslands, Savannas ...   \n",
       "3    4      9                    Flooded Grasslands and Savannas   \n",
       "4    5     10                  Montane Grasslands and Shrublands   \n",
       "\n",
       "    Shape__Area  Shape__Length  \\\n",
       "0  6.740088e+12   6.596722e+07   \n",
       "1  2.687076e+11   1.399060e+07   \n",
       "2  1.337588e+12   4.513371e+07   \n",
       "3  6.400192e+10   4.039980e+06   \n",
       "4  1.260113e+11   2.159517e+07   \n",
       "\n",
       "                                            geometry      area  \n",
       "0  POLYGON ((-62.16851 9.93850, -62.18296 9.93627...  0.000017  \n",
       "1  POLYGON ((-73.95417 3.35417, -73.95083 3.34917...  0.193485  \n",
       "2  POLYGON ((-62.20739 8.64443, -62.24595 8.60665...  0.002697  \n",
       "3  POLYGON ((-62.07857 9.87582, -62.07703 9.87479...  0.005688  \n",
       "4  POLYGON ((-74.77648 2.94274, -74.77165 2.93829...  0.001231  "
      ]
     },
     "execution_count": 91,
     "metadata": {},
     "output_type": "execute_result"
    }
   ],
   "source": [
    "gdf['area'] = gdf['geometry'].area\n",
    "gdf['area_shape_pct'] = gdf['Shape__Area'] / gdf['Shape__Area'].sum() * 100\n",
    "gdf['area_pct'] = gdf['area'] / gdf['area'].sum() * 100\n",
    "gdf"
   ]
  },
  {
   "cell_type": "code",
   "execution_count": 86,
   "metadata": {},
   "outputs": [
    {
     "name": "stderr",
     "output_type": "stream",
     "text": [
      "/var/folders/wf/_wlxc6cn5js4hh3j7j6x28f80000gn/T/ipykernel_7127/586741985.py:1: UserWarning: Geometry is in a geographic CRS. Results from 'area' are likely incorrect. Use 'GeoSeries.to_crs()' to re-project geometries to a projected CRS before this operation.\n",
      "\n",
      "  gdf_poly['area'] = gdf_poly['geometry'].area\n"
     ]
    },
    {
     "data": {
      "text/html": [
       "<div>\n",
       "<style scoped>\n",
       "    .dataframe tbody tr th:only-of-type {\n",
       "        vertical-align: middle;\n",
       "    }\n",
       "\n",
       "    .dataframe tbody tr th {\n",
       "        vertical-align: top;\n",
       "    }\n",
       "\n",
       "    .dataframe thead th {\n",
       "        text-align: right;\n",
       "    }\n",
       "</style>\n",
       "<table border=\"1\" class=\"dataframe\">\n",
       "  <thead>\n",
       "    <tr style=\"text-align: right;\">\n",
       "      <th></th>\n",
       "      <th>name</th>\n",
       "      <th>geometry</th>\n",
       "      <th>area</th>\n",
       "    </tr>\n",
       "  </thead>\n",
       "  <tbody>\n",
       "    <tr>\n",
       "      <th>0</th>\n",
       "      <td>polygon</td>\n",
       "      <td>POLYGON ((-63.58488 -19.68030, -66.08496 -18.4...</td>\n",
       "      <td>103.825023</td>\n",
       "    </tr>\n",
       "  </tbody>\n",
       "</table>\n",
       "</div>"
      ],
      "text/plain": [
       "      name                                           geometry        area\n",
       "0  polygon  POLYGON ((-63.58488 -19.68030, -66.08496 -18.4...  103.825023"
      ]
     },
     "execution_count": 86,
     "metadata": {},
     "output_type": "execute_result"
    }
   ],
   "source": [
    "gdf_poly['area'] = gdf_poly['geometry'].area\n",
    "gdf_poly"
   ]
  },
  {
   "cell_type": "code",
   "execution_count": 93,
   "metadata": {},
   "outputs": [
    {
     "data": {
      "text/plain": [
       "<Axes: >"
      ]
     },
     "execution_count": 93,
     "metadata": {},
     "output_type": "execute_result"
    },
    {
     "data": {
      "image/png": "[encoded data removed]",
      "text/plain": [
       "<Figure size 640x480 with 1 Axes>"
      ]
     },
     "metadata": {},
     "output_type": "display_data"
    }
   ],
   "source": [
    "fig, ax = plt.subplots()\n",
    "gdf_poly.plot(ax=ax, color='r')\n",
    "gdf.plot(ax=ax, color='blue')"
   ]
  }
 ],
 "metadata": {
  "kernelspec": {
   "display_name": "py311",
   "language": "python",
   "name": "python3"
  },
  "language_info": {
   "codemirror_mode": {
    "name": "ipython",
    "version": 3
   },
   "file_extension": ".py",
   "mimetype": "text/x-python",
   "name": "python",
   "nbconvert_exporter": "python",
   "pygments_lexer": "ipython3",
   "version": "3.11.4"
  }
 },
 "nbformat": 4,
 "nbformat_minor": 2
}
