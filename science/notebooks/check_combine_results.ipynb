{
 "cells": [
  {
   "cell_type": "code",
   "execution_count": null,
   "id": "0",
   "metadata": {},
   "outputs": [],
   "source": [
    "import polars as pl"
   ]
  },
  {
   "cell_type": "code",
   "execution_count": null,
   "id": "1",
   "metadata": {},
   "outputs": [],
   "source": [
    "df = pl.read_ipc(\"../data/processed/grid/0/8057fffffffffff.arrow\")\n",
    "df"
   ]
  },
  {
   "cell_type": "code",
   "execution_count": null,
   "id": "2",
   "metadata": {},
   "outputs": [],
   "source": [
    "schema = {\"cell\": pl.UInt64, \"b\": pl.Float32, \"c\": pl.String}\n",
    "df = pl.DataFrame(schema=schema)\n",
    "\n",
    "join1 = pl.DataFrame({\"cell\": [1, 2, 3], \"b\": [9.0, 9.0, 9.0]}, schema_overrides=schema)\n",
    "join2 = pl.DataFrame({\"cell\": [1, 2, 3], \"c\": [\"a\", \"b\", \"c\"]}, schema_overrides=schema)\n",
    "join3 = pl.DataFrame({\"cell\": [4, 5, 6], \"c\": [\"a\", \"b\", \"c\"]}, schema_overrides=schema)\n",
    "\n",
    "tojoin = [join1, join2, join3]\n",
    "\n",
    "res = pl.concat(tojoin, how=\"diagonal\", rechunk=True)\n",
    "res = res.group_by(\"cell\", maintain_order=True).agg(pl.all().max())\n",
    "print(res)"
   ]
  },
  {
   "cell_type": "code",
   "execution_count": null,
   "id": "3",
   "metadata": {},
   "outputs": [],
   "source": [
    "import polars as pl\n",
    "\n",
    "# Define the initial DataFrame\n",
    "df = pl.DataFrame(\n",
    "    {\n",
    "        \"cell\": [1, 2, 3, 1, 2, 3, 4, 5, 6],\n",
    "        \"b\": [9.0, 9.0, 9.0, None, None, None, None, None, None],\n",
    "        \"c\": [None, None, None, \"a\", \"b\", \"c\", \"a\", \"b\", \"c\"],\n",
    "    }\n",
    ")\n",
    "\n",
    "# Perform the group by and aggregation\n",
    "agg_df = df.groupby(\"cell\").agg([pl.col(\"b\").max().alias(\"b\"), pl.col(\"c\").max().alias(\"c\")])\n",
    "\n",
    "# Sort the resulting DataFrame by the 'cell' column\n",
    "result_df = agg_df.sort(\"cell\")\n",
    "\n",
    "# Print the resulting DataFrame\n",
    "print(result_df)"
   ]
  }
 ],
 "metadata": {
  "kernelspec": {
   "display_name": "Python 3 (ipykernel)",
   "language": "python",
   "name": "python3"
  },
  "language_info": {
   "codemirror_mode": {
    "name": "ipython",
    "version": 3
   },
   "file_extension": ".py",
   "mimetype": "text/x-python",
   "name": "python",
   "nbconvert_exporter": "python",
   "pygments_lexer": "ipython3",
   "version": "3.12.4"
  }
 },
 "nbformat": 4,
 "nbformat_minor": 5
}
